{
  "nbformat": 4,
  "nbformat_minor": 0,
  "metadata": {
    "colab": {
      "provenance": [],
      "authorship_tag": "ABX9TyN+JJNFeWkMK0pz8wK7GMXz",
      "include_colab_link": true
    },
    "kernelspec": {
      "name": "python3",
      "display_name": "Python 3"
    },
    "language_info": {
      "name": "python"
    }
  },
  "cells": [
    {
      "cell_type": "markdown",
      "metadata": {
        "id": "view-in-github",
        "colab_type": "text"
      },
      "source": [
        "<a href=\"https://colab.research.google.com/gist/yebekhe/9b3b1f23cb4f1bfa4efb5571d7c88821/sing-box-warp-conf-gen.ipynb\" target=\"_parent\"><img src=\"https://colab.research.google.com/assets/colab-badge.svg\" alt=\"Open In Colab\"/></a>"
      ]
    },
    {
      "cell_type": "code",
      "execution_count": null,
      "metadata": {
        "id": "5Nhvn2imjy_O"
      },
      "outputs": [],
      "source": [
        "!apt update"
      ]
    },
    {
      "cell_type": "code",
      "source": [
        "!apt upgrade"
      ],
      "metadata": {
        "id": "TeCTPEdbj4UE"
      },
      "execution_count": null,
      "outputs": []
    },
    {
      "cell_type": "code",
      "source": [
        "!wget https://api.zeroteam.top/warp?format=warp-go -O warp.conf && chmod +x warp.conf"
      ],
      "metadata": {
        "id": "ZXQLsJEmkiYI"
      },
      "execution_count": null,
      "outputs": []
    },
    {
      "cell_type": "code",
      "source": [
        "!wget https://github.com/yebekhe/Misaka_warp-script/raw/main/files/warp-go/warp-go-latest-linux-amd64 -O warp-go && chmod u+x warp-go"
      ],
      "metadata": {
        "id": "K3FRZVzGSHPb"
      },
      "execution_count": null,
      "outputs": []
    },
    {
      "cell_type": "code",
      "source": [
        "!./warp-go --update --config=warp.conf --license=m5S17oG3-81B0aZG5-16u7nCd9 --device-name=yebekhe"
      ],
      "metadata": {
        "id": "tLTmzen9kvve"
      },
      "execution_count": null,
      "outputs": []
    },
    {
      "cell_type": "code",
      "source": [
        "!./warp-go --config=warp.conf --export-singbox=proxy.json"
      ],
      "metadata": {
        "id": "I64SPBr0lpt4"
      },
      "execution_count": null,
      "outputs": []
    },
    {
      "cell_type": "code",
      "source": [
        "!cat proxy.json"
      ],
      "metadata": {
        "id": "QB1KBcDflqwf"
      },
      "execution_count": null,
      "outputs": []
    }
  ]
}
